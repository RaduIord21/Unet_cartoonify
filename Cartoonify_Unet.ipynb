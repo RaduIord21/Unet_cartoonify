{
 "nbformat": 4,
 "nbformat_minor": 0,
 "metadata": {
  "colab": {
   "provenance": [],
   "gpuType": "T4",
   "toc_visible": true
  },
  "kernelspec": {
   "name": "python3",
   "display_name": "Python 3"
  },
  "language_info": {
   "name": "python"
  },
  "accelerator": "GPU"
 },
 "cells": [
  {
   "cell_type": "code",
   "source": "",
   "metadata": {
    "id": "tBlqsFfwimLq"
   },
   "execution_count": null,
   "outputs": []
  },
  {
   "cell_type": "code",
   "execution_count": null,
   "metadata": {
    "colab": {
     "base_uri": "https://localhost:8080/"
    },
    "id": "ZSOahtf6dyFp",
    "outputId": "ce33fcf3-076b-453e-afd9-b03e940a59a7"
   },
   "outputs": [
    {
     "output_type": "stream",
     "name": "stderr",
     "text": [
      "100%|██████████| 9469/9469 [21:08<00:00,  7.47it/s]\n"
     ]
    }
   ],
   "source": [
    "import cv2\n",
    "import os\n",
    "from torchvision.datasets import Imagenette\n",
    "from torchvision import transforms\n",
    "from PIL import Image\n",
    "from tqdm import tqdm\n",
    "import numpy as np\n",
    "import glob\n",
    "\n",
    "#cartoonify filter\n",
    "def cartoonify(img, d, sigmaColor, sigmaSpace, edge_size=9):\n",
    "\n",
    "    assert edge_size % 2 == 1, \"edge_size must be odd\"\n",
    "    color = cv2.bilateralFilter(img, d=d, sigmaColor=sigmaColor, sigmaSpace=sigmaSpace)\n",
    "\n",
    "    gray = cv2.cvtColor(img, cv2.COLOR_BGR2GRAY)\n",
    "    gray_blur = cv2.medianBlur(gray, 7)\n",
    "\n",
    "    edges = cv2.adaptiveThreshold(gray_blur, 255,\n",
    "                              cv2.ADAPTIVE_THRESH_MEAN_C,\n",
    "                                  cv2.THRESH_BINARY, edge_size, 9)\n",
    "\n",
    "\n",
    "    cartoon = cv2.bitwise_and(color, color, mask=edges)\n",
    "return cartoon\n",
    "\n",
    "save_input_dir = \"data/celeba_pairs/input\"\n",
    "save_target_dir = \"data/celeba_pairs/target\"\n",
    "os.makedirs(save_input_dir, exist_ok=True)\n",
    "os.makedirs(save_target_dir, exist_ok=True)\n",
    "\n",
    "\n",
    "dataset_root = \"/content/drive/MyDrive/CV_project/\"\n",
    "dataset = Imagenette(root=\"data\",split=\"train\", size=\"320px\", download=True)\n",
    "\n",
    "for idx in tqdm(range(len(dataset))):\n",
    "    img, _ = dataset[idx]\n",
    "    img = img.convert(\"RGB\")\n",
    "\n",
    "    input_path = os.path.join(save_input_dir, f\"{idx:06d}.jpg\")\n",
    "    img.save(input_path)\n",
    "\n",
    "    img_cv = cv2.cvtColor(np.array(img), cv2.COLOR_RGB2BGR)\n",
    "\n",
    "    cartoon_cv = cartoonify(img=img_cv, d=20, sigmaColor=100, sigmaSpace=100, edge_size=25)\n",
    "\n",
    "    target_path = os.path.join(save_target_dir, f\"{idx:06d}.jpg\")\n",
    "    cv2.imwrite(target_path, cartoon_cv)\n"
   ]
  },
  {
   "cell_type": "code",
   "source": [
    "#!mv data /content/drive/MyDrive/CV_project/"
   ],
   "metadata": {
    "id": "-uFuswbTi3bw"
   },
   "execution_count": null,
   "outputs": []
  },
  {
   "cell_type": "code",
   "source": [
    "#half an hour break ! :)\n",
    "\n",
    "# import time\n",
    "\n",
    "# for i in tqdm(range(900)):\n",
    "#   time.sleep(2)"
   ],
   "metadata": {
    "colab": {
     "base_uri": "https://localhost:8080/"
    },
    "id": "50FkVUaUrm9r",
    "outputId": "05542e31-bd2f-4423-a6c5-75e9e6c3d647"
   },
   "execution_count": null,
   "outputs": [
    {
     "output_type": "stream",
     "name": "stderr",
     "text": [
      "100%|██████████| 900/900 [30:00<00:00,  2.00s/it]\n"
     ]
    }
   ]
  },
  {
   "cell_type": "code",
   "source": [
    "dataset_root = \"/content/drive/MyDrive/CV_project/\""
   ],
   "metadata": {
    "id": "WhahG1yesolN"
   },
   "execution_count": null,
   "outputs": []
  },
  {
   "cell_type": "code",
   "source": [
    "from torch.utils.data import Dataset, DataLoader\n",
    "\n",
    "\n",
    "class CartoonDataset(Dataset):\n",
    "    def __init__(self, input_dir, target_dir, transform=None):\n",
    "        self.input_files = sorted(glob.glob(os.path.join(input_dir, \"*.jpg\")))\n",
    "        self.target_files = sorted(glob.glob(os.path.join(target_dir, \"*.jpg\")))\n",
    "        self.transform = transform\n",
    "\n",
    "    def __len__(self):\n",
    "        return len(self.input_files)\n",
    "\n",
    "    def __getitem__(self, idx):\n",
    "        inp = Image.open(self.input_files[idx]).convert(\"RGB\")\n",
    "        tgt = Image.open(self.target_files[idx]).convert(\"RGB\")\n",
    "\n",
    "        if self.transform:\n",
    "            inp = self.transform(inp)\n",
    "            tgt = self.transform(tgt)\n",
    "        return inp, tgt"
   ],
   "metadata": {
    "id": "L4mNMp7l356t"
   },
   "execution_count": null,
   "outputs": []
  },
  {
   "cell_type": "code",
   "source": [
    "import torch.nn as nn\n",
    "import torch\n",
    "import torch.optim as optim\n",
    "class UNetBlock(nn.Module):\n",
    "    def __init__(self, in_ch, out_ch):\n",
    "        super().__init__()\n",
    "        self.block = nn.Sequential(\n",
    "            nn.Conv2d(in_ch, out_ch, 3, padding=1),\n",
    "            nn.BatchNorm2d(out_ch),\n",
    "            nn.ReLU(inplace=True),\n",
    "            nn.Conv2d(out_ch, out_ch, 3, padding=1),\n",
    "            nn.BatchNorm2d(out_ch),\n",
    "            nn.ReLU(inplace=True)\n",
    "        )\n",
    "    def forward(self, x):\n",
    "        return self.block(x)"
   ],
   "metadata": {
    "id": "hiaO4Vbo4WR5"
   },
   "execution_count": null,
   "outputs": []
  },
  {
   "cell_type": "code",
   "source": [
    "class UNet(nn.Module):\n",
    "    def __init__(self):\n",
    "        super().__init__()\n",
    "        self.enc1 = UNetBlock(3, 64)\n",
    "        self.enc2 = UNetBlock(64, 128)\n",
    "        self.enc3 = UNetBlock(128, 256)\n",
    "        self.enc4 = UNetBlock(256, 512)\n",
    "\n",
    "        self.pool = nn.MaxPool2d(2)\n",
    "\n",
    "        self.middle = UNetBlock(512, 1024)\n",
    "\n",
    "        self.up4 = nn.ConvTranspose2d(1024, 512, 2, stride=2)\n",
    "        self.dec4 = UNetBlock(1024, 512)\n",
    "        self.up3 = nn.ConvTranspose2d(512, 256, 2, stride=2)\n",
    "        self.dec3 = UNetBlock(512, 256)\n",
    "        self.up2 = nn.ConvTranspose2d(256, 128, 2, stride=2)\n",
    "        self.dec2 = UNetBlock(256, 128)\n",
    "        self.up1 = nn.ConvTranspose2d(128, 64, 2, stride=2)\n",
    "        self.dec1 = UNetBlock(128, 64)\n",
    "\n",
    "        self.final = nn.Conv2d(64, 3, kernel_size=1)\n",
    "\n",
    "    def forward(self, x):\n",
    "        e1 = self.enc1(x)\n",
    "        e2 = self.enc2(self.pool(e1))\n",
    "        e3 = self.enc3(self.pool(e2))\n",
    "        e4 = self.enc4(self.pool(e3))\n",
    "\n",
    "        m = self.middle(self.pool(e4))\n",
    "\n",
    "        d4 = self.up4(m)\n",
    "        d4 = self.dec4(torch.cat([d4, e4], dim=1))\n",
    "        d3 = self.up3(d4)\n",
    "        d3 = self.dec3(torch.cat([d3, e3], dim=1))\n",
    "        d2 = self.up2(d3)\n",
    "        d2 = self.dec2(torch.cat([d2, e2], dim=1))\n",
    "        d1 = self.up1(d2)\n",
    "        d1 = self.dec1(torch.cat([d1, e1], dim=1))\n",
    "\n",
    "        return torch.sigmoid(self.final(d1))"
   ],
   "metadata": {
    "id": "04V8uuoe4qma"
   },
   "execution_count": null,
   "outputs": []
  },
  {
   "cell_type": "code",
   "source": [
    "from torch.utils.data import random_split\n",
    "\n",
    "\n",
    "device = torch.device(\"cuda\" if torch.cuda.is_available() else \"cpu\")\n",
    "\n",
    "transform = transforms.Compose([\n",
    "    transforms.Resize((256, 256)),\n",
    "    transforms.ToTensor()\n",
    "])\n",
    "input_path = dataset_root + save_input_dir\n",
    "target_path = dataset_root + save_target_dir\n",
    "\n",
    "\n",
    "\n",
    "print(input_path)\n",
    "print(target_path)\n",
    "\n",
    "dataset = CartoonDataset(input_path, target_path, transform=transform)\n",
    "\n",
    "train_size = int(0.7 * len(dataset))\n",
    "val_size = len(dataset) - train_size\n",
    "\n",
    "train_dataset, val_dataset = random_split(dataset, [train_size, val_size])\n",
    "\n",
    "train_loader = DataLoader(train_dataset, batch_size=16, shuffle=True)\n",
    "val_loader = DataLoader(val_dataset, batch_size=16, shuffle=False)\n",
    "\n",
    "model = UNet().to(device)\n",
    "criterion = nn.L1Loss()\n",
    "optimizer = optim.Adam(model.parameters(), lr=1e-4)"
   ],
   "metadata": {
    "colab": {
     "base_uri": "https://localhost:8080/"
    },
    "id": "ZRQDuZGL4t58",
    "outputId": "01542869-5253-43b6-f51d-f3103d496d54"
   },
   "execution_count": null,
   "outputs": [
    {
     "output_type": "stream",
     "name": "stdout",
     "text": [
      "/content/drive/MyDrive/CV_project/data/celeba_pairs/input\n",
      "/content/drive/MyDrive/CV_project/data/celeba_pairs/target\n"
     ]
    }
   ]
  },
  {
   "cell_type": "code",
   "source": [
    "epochs = 20\n",
    "patience = 2\n",
    "best_val_loss = float(\"inf\")\n",
    "counter = 0\n",
    "scheduler = torch.optim.lr_scheduler.ReduceLROnPlateau(\n",
    "    optimizer, mode=\"min\", factor=0.1, patience=1\n",
    ")\n",
    "\n",
    "for epoch in tqdm(range(epochs)):\n",
    "    train_counter = 0\n",
    "    val_counter = 0\n",
    "    model.train()\n",
    "    epoch_loss = 0\n",
    "    for inp, tgt in train_loader:\n",
    "        train_loader_size = len(train_loader)\n",
    "        if train_counter % 20 == 0:\n",
    "            print(f\"Train batch: {train_counter}/{train_loader_size}\")\n",
    "        train_counter += 1\n",
    "\n",
    "        inp, tgt = inp.to(device), tgt.to(device)\n",
    "\n",
    "        optimizer.zero_grad()\n",
    "        out = model(inp)\n",
    "        loss = criterion(out, tgt)\n",
    "        loss.backward()\n",
    "        optimizer.step()\n",
    "\n",
    "        epoch_loss += loss.item()\n",
    "\n",
    "    train_loss = epoch_loss / len(train_loader)\n",
    "\n",
    "    model.eval()\n",
    "    val_loss = 0\n",
    "    with torch.no_grad():\n",
    "        for inp, tgt in val_loader:\n",
    "            val_loader_size = len(val_loader)\n",
    "            if val_counter % 20 == 0:\n",
    "               print(f\"Val batch: {val_counter}/{val_loader_size}\")\n",
    "            val_counter += 1\n",
    "            inp, tgt = inp.to(device), tgt.to(device)\n",
    "            out = model(inp)\n",
    "            loss = criterion(out, tgt)\n",
    "            val_loss += loss.item()\n",
    "    val_loss /= len(val_loader)\n",
    "\n",
    "    if val_loss < best_val_loss:\n",
    "        best_val_loss = val_loss\n",
    "        counter = 0\n",
    "        torch.save(model.state_dict(), \"cartoonifier.pth\")\n",
    "    else:\n",
    "        counter += 1\n",
    "        if counter >= patience:\n",
    "            print(\"Early stopping!\")\n",
    "            break\n",
    "\n",
    "    scheduler.step(val_loss)\n",
    "\n",
    "    print(\n",
    "        f\"Epoch {epoch+1}/{epochs} \"\n",
    "        f\"| Train Loss: {train_loss:.4f} \"\n",
    "        f\"| Val Loss: {val_loss:.4f} \"\n",
    "        f\"| LR: {optimizer.param_groups[0]['lr']:.6f}\"\n",
    "    )\n",
    "\n",
    "print(\"Antrenare terminată. Cel mai bun model salvat ca cartoon_unet_best.pth\")"
   ],
   "metadata": {
    "colab": {
     "base_uri": "https://localhost:8080/"
    },
    "id": "TB5D9PiJ5S9O",
    "outputId": "84c02e5a-3cd6-4213-a228-fe3d241b5c41"
   },
   "execution_count": null,
   "outputs": [
    {
     "output_type": "stream",
     "name": "stderr",
     "text": [
      "\r  0%|          | 0/20 [00:00<?, ?it/s]"
     ]
    },
    {
     "output_type": "stream",
     "name": "stdout",
     "text": [
      "Train batch: 0/415\n",
      "Train batch: 20/415\n",
      "Train batch: 40/415\n",
      "Train batch: 60/415\n",
      "Train batch: 80/415\n",
      "Train batch: 100/415\n",
      "Train batch: 120/415\n",
      "Train batch: 140/415\n",
      "Train batch: 160/415\n",
      "Train batch: 180/415\n",
      "Train batch: 200/415\n",
      "Train batch: 220/415\n",
      "Train batch: 240/415\n",
      "Train batch: 260/415\n",
      "Train batch: 280/415\n",
      "Train batch: 300/415\n",
      "Train batch: 320/415\n",
      "Train batch: 340/415\n",
      "Train batch: 360/415\n",
      "Train batch: 380/415\n",
      "Train batch: 400/415\n",
      "Val batch: 0/178\n",
      "Val batch: 20/178\n",
      "Val batch: 40/178\n",
      "Val batch: 60/178\n",
      "Val batch: 80/178\n",
      "Val batch: 100/178\n",
      "Val batch: 120/178\n",
      "Val batch: 140/178\n",
      "Val batch: 160/178\n"
     ]
    },
    {
     "output_type": "stream",
     "name": "stderr",
     "text": [
      "\r  5%|▌         | 1/20 [08:19<2:38:15, 499.78s/it]"
     ]
    },
    {
     "output_type": "stream",
     "name": "stdout",
     "text": [
      "Epoch 1/20 | Train Loss: 0.0462 | Val Loss: 0.0307 | LR: 0.000100\n",
      "Train batch: 0/415\n",
      "Train batch: 20/415\n",
      "Train batch: 40/415\n",
      "Train batch: 60/415\n",
      "Train batch: 80/415\n",
      "Train batch: 100/415\n",
      "Train batch: 120/415\n",
      "Train batch: 140/415\n",
      "Train batch: 160/415\n",
      "Train batch: 180/415\n",
      "Train batch: 200/415\n",
      "Train batch: 220/415\n",
      "Train batch: 240/415\n",
      "Train batch: 260/415\n",
      "Train batch: 280/415\n",
      "Train batch: 300/415\n",
      "Train batch: 320/415\n",
      "Train batch: 340/415\n",
      "Train batch: 360/415\n",
      "Train batch: 380/415\n",
      "Train batch: 400/415\n",
      "Val batch: 0/178\n",
      "Val batch: 20/178\n",
      "Val batch: 40/178\n",
      "Val batch: 60/178\n",
      "Val batch: 80/178\n",
      "Val batch: 100/178\n",
      "Val batch: 120/178\n",
      "Val batch: 140/178\n",
      "Val batch: 160/178\n"
     ]
    },
    {
     "output_type": "stream",
     "name": "stderr",
     "text": [
      "\r 10%|█         | 2/20 [16:39<2:29:59, 499.98s/it]"
     ]
    },
    {
     "output_type": "stream",
     "name": "stdout",
     "text": [
      "Epoch 2/20 | Train Loss: 0.0382 | Val Loss: 0.0277 | LR: 0.000100\n",
      "Train batch: 0/415\n",
      "Train batch: 20/415\n",
      "Train batch: 40/415\n",
      "Train batch: 60/415\n",
      "Train batch: 80/415\n",
      "Train batch: 100/415\n",
      "Train batch: 120/415\n",
      "Train batch: 140/415\n",
      "Train batch: 160/415\n",
      "Train batch: 180/415\n",
      "Train batch: 200/415\n",
      "Train batch: 220/415\n",
      "Train batch: 240/415\n",
      "Train batch: 260/415\n",
      "Train batch: 280/415\n",
      "Train batch: 300/415\n",
      "Train batch: 320/415\n",
      "Train batch: 340/415\n",
      "Train batch: 360/415\n",
      "Train batch: 380/415\n",
      "Train batch: 400/415\n",
      "Val batch: 0/178\n",
      "Val batch: 20/178\n",
      "Val batch: 40/178\n",
      "Val batch: 60/178\n",
      "Val batch: 80/178\n",
      "Val batch: 100/178\n",
      "Val batch: 120/178\n",
      "Val batch: 140/178\n",
      "Val batch: 160/178\n"
     ]
    },
    {
     "output_type": "stream",
     "name": "stderr",
     "text": [
      "\r 15%|█▌        | 3/20 [24:59<2:21:39, 499.96s/it]"
     ]
    },
    {
     "output_type": "stream",
     "name": "stdout",
     "text": [
      "Epoch 3/20 | Train Loss: 0.0346 | Val Loss: 0.0262 | LR: 0.000100\n",
      "Train batch: 0/415\n",
      "Train batch: 20/415\n",
      "Train batch: 40/415\n",
      "Train batch: 60/415\n",
      "Train batch: 80/415\n",
      "Train batch: 100/415\n",
      "Train batch: 120/415\n",
      "Train batch: 140/415\n",
      "Train batch: 160/415\n",
      "Train batch: 180/415\n",
      "Train batch: 200/415\n",
      "Train batch: 220/415\n",
      "Train batch: 240/415\n",
      "Train batch: 260/415\n",
      "Train batch: 280/415\n",
      "Train batch: 300/415\n",
      "Train batch: 320/415\n",
      "Train batch: 340/415\n",
      "Train batch: 360/415\n",
      "Train batch: 380/415\n",
      "Train batch: 400/415\n",
      "Val batch: 0/178\n",
      "Val batch: 20/178\n",
      "Val batch: 40/178\n",
      "Val batch: 60/178\n",
      "Val batch: 80/178\n",
      "Val batch: 100/178\n",
      "Val batch: 120/178\n",
      "Val batch: 140/178\n",
      "Val batch: 160/178\n"
     ]
    },
    {
     "output_type": "stream",
     "name": "stderr",
     "text": [
      "\r 20%|██        | 4/20 [33:19<2:13:14, 499.65s/it]"
     ]
    },
    {
     "output_type": "stream",
     "name": "stdout",
     "text": [
      "Epoch 4/20 | Train Loss: 0.0322 | Val Loss: 0.0244 | LR: 0.000100\n",
      "Train batch: 0/415\n",
      "Train batch: 20/415\n",
      "Train batch: 40/415\n",
      "Train batch: 60/415\n",
      "Train batch: 80/415\n",
      "Train batch: 100/415\n",
      "Train batch: 120/415\n",
      "Train batch: 140/415\n",
      "Train batch: 160/415\n",
      "Train batch: 180/415\n",
      "Train batch: 200/415\n",
      "Train batch: 220/415\n",
      "Train batch: 240/415\n",
      "Train batch: 260/415\n",
      "Train batch: 280/415\n",
      "Train batch: 300/415\n",
      "Train batch: 320/415\n",
      "Train batch: 340/415\n",
      "Train batch: 360/415\n",
      "Train batch: 380/415\n",
      "Train batch: 400/415\n",
      "Val batch: 0/178\n",
      "Val batch: 20/178\n",
      "Val batch: 40/178\n",
      "Val batch: 60/178\n",
      "Val batch: 80/178\n",
      "Val batch: 100/178\n",
      "Val batch: 120/178\n",
      "Val batch: 140/178\n",
      "Val batch: 160/178\n"
     ]
    },
    {
     "output_type": "stream",
     "name": "stderr",
     "text": [
      "\r 25%|██▌       | 5/20 [41:37<2:04:48, 499.21s/it]"
     ]
    },
    {
     "output_type": "stream",
     "name": "stdout",
     "text": [
      "Epoch 5/20 | Train Loss: 0.0309 | Val Loss: 0.0253 | LR: 0.000100\n",
      "Train batch: 0/415\n",
      "Train batch: 20/415\n",
      "Train batch: 40/415\n",
      "Train batch: 60/415\n",
      "Train batch: 80/415\n",
      "Train batch: 100/415\n",
      "Train batch: 120/415\n",
      "Train batch: 140/415\n",
      "Train batch: 160/415\n",
      "Train batch: 180/415\n",
      "Train batch: 200/415\n",
      "Train batch: 220/415\n",
      "Train batch: 240/415\n",
      "Train batch: 260/415\n",
      "Train batch: 280/415\n",
      "Train batch: 300/415\n",
      "Train batch: 320/415\n",
      "Train batch: 340/415\n",
      "Train batch: 360/415\n",
      "Train batch: 380/415\n",
      "Train batch: 400/415\n",
      "Val batch: 0/178\n",
      "Val batch: 20/178\n",
      "Val batch: 40/178\n",
      "Val batch: 60/178\n",
      "Val batch: 80/178\n",
      "Val batch: 100/178\n",
      "Val batch: 120/178\n",
      "Val batch: 140/178\n",
      "Val batch: 160/178\n"
     ]
    },
    {
     "output_type": "stream",
     "name": "stderr",
     "text": [
      "\r 30%|███       | 6/20 [49:55<1:56:25, 498.94s/it]"
     ]
    },
    {
     "output_type": "stream",
     "name": "stdout",
     "text": [
      "Epoch 6/20 | Train Loss: 0.0301 | Val Loss: 0.0223 | LR: 0.000100\n",
      "Train batch: 0/415\n",
      "Train batch: 20/415\n",
      "Train batch: 40/415\n",
      "Train batch: 60/415\n",
      "Train batch: 80/415\n",
      "Train batch: 100/415\n",
      "Train batch: 120/415\n",
      "Train batch: 140/415\n",
      "Train batch: 160/415\n",
      "Train batch: 180/415\n",
      "Train batch: 200/415\n",
      "Train batch: 220/415\n",
      "Train batch: 240/415\n",
      "Train batch: 260/415\n",
      "Train batch: 280/415\n",
      "Train batch: 300/415\n",
      "Train batch: 320/415\n",
      "Train batch: 340/415\n",
      "Train batch: 360/415\n",
      "Train batch: 380/415\n",
      "Train batch: 400/415\n",
      "Val batch: 0/178\n",
      "Val batch: 20/178\n",
      "Val batch: 40/178\n",
      "Val batch: 60/178\n",
      "Val batch: 80/178\n",
      "Val batch: 100/178\n",
      "Val batch: 120/178\n",
      "Val batch: 140/178\n",
      "Val batch: 160/178\n"
     ]
    },
    {
     "output_type": "stream",
     "name": "stderr",
     "text": [
      "\r 35%|███▌      | 7/20 [58:14<1:48:04, 498.85s/it]"
     ]
    },
    {
     "output_type": "stream",
     "name": "stdout",
     "text": [
      "Epoch 7/20 | Train Loss: 0.0283 | Val Loss: 0.0237 | LR: 0.000100\n",
      "Train batch: 0/415\n",
      "Train batch: 20/415\n",
      "Train batch: 40/415\n",
      "Train batch: 60/415\n",
      "Train batch: 80/415\n",
      "Train batch: 100/415\n",
      "Train batch: 120/415\n",
      "Train batch: 140/415\n",
      "Train batch: 160/415\n",
      "Train batch: 180/415\n",
      "Train batch: 200/415\n",
      "Train batch: 220/415\n",
      "Train batch: 240/415\n",
      "Train batch: 260/415\n",
      "Train batch: 280/415\n",
      "Train batch: 300/415\n",
      "Train batch: 320/415\n",
      "Train batch: 340/415\n",
      "Train batch: 360/415\n",
      "Train batch: 380/415\n",
      "Train batch: 400/415\n",
      "Val batch: 0/178\n",
      "Val batch: 20/178\n",
      "Val batch: 40/178\n",
      "Val batch: 60/178\n",
      "Val batch: 80/178\n",
      "Val batch: 100/178\n",
      "Val batch: 120/178\n",
      "Val batch: 140/178\n",
      "Val batch: 160/178\n"
     ]
    },
    {
     "output_type": "stream",
     "name": "stderr",
     "text": [
      "\r 35%|███▌      | 7/20 [1:06:32<2:03:35, 570.43s/it]"
     ]
    },
    {
     "output_type": "stream",
     "name": "stdout",
     "text": [
      "Early stopping!\n",
      "Antrenare terminată. Cel mai bun model salvat ca cartoon_unet_best.pth\n"
     ]
    },
    {
     "output_type": "stream",
     "name": "stderr",
     "text": [
      "\n"
     ]
    }
   ]
  },
  {
   "cell_type": "code",
   "source": "",
   "metadata": {
    "id": "6HWbn1X-7bXx"
   },
   "execution_count": null,
   "outputs": []
  }
 ]
}
